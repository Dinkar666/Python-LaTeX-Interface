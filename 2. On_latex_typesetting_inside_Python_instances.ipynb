{
 "cells": [
  {
   "cell_type": "markdown",
   "id": "9d74d931-3e90-419a-bc70-21a669a7fda2",
   "metadata": {},
   "source": [
    "# 1. Brief description of the Notebook\n",
    "\n",
    "- `IPython.display` has `Math` class that allows to display $\\LaTeX$ typesetting within the code cell.\n",
    "- This notebook presents different examples on to use the `Math` class for typesetting purposes. In case if anyone is interested in presenting calculations done by python together with the latex formatting in a single line(which becomes indispensible when working on a research paper).\n",
    "- If used in association with other libraries such as sympy,numpy,matplotlib,or scipy, this technique of presenting the work can turn out to be very useful for the code writers as well as the users.\n",
    "- In short,it makes the scientific work done in python more legible.\n",
    "  \n",
    "for more details on Ipython's `display` module refer: https://ipython.readthedocs.io/en/stable/api/generated/IPython.display.html\n",
    "\n"
   ]
  },
  {
   "cell_type": "markdown",
   "id": "41d79530-4ee7-4f7e-a899-bcb813dc7938",
   "metadata": {},
   "source": [
    "## 1.1 Usful Markdown stuff\n",
    "Click on this markdown cell and the command will be visible\n",
    "- ***Bold and Italic*** \n",
    "- ~~Scratch this~~\n",
    "- \\# Not a header (backslash escape)\n",
    "- --- (to draw a separator line)\n",
    "- [Section title](#Integrals)\n",
    "- to write a checklist\n",
    "  - [x] item 1\n",
    "  - [ ] item 2\n",
    "- to create a table\n",
    " \n",
    "|Header|Header|Header|\n",
    "|------|------|------|\n",
    "|A     |B     |C     |\n",
    "|X     |Y     |Z     |\n",
    "\n",
    "- <mark>use mark command to highlight the text </mark>\n",
    "- important Boxed information:\n",
    "\n",
    "<div class=\"alert alert-block alert-info\"><b>Tip:</b> for tips and notes.</div>\n",
    "<div class=\"alert alert-block alert-warning\"><b>Example:</b>  for mathematics and physics stuff </div>\n",
    "<div class=\"alert alert-block alert-success\"><b>Success:</b>successful!</div>\n",
    "<div class=\"alert alert-block alert-danger\"><b>Danger:</b> dangerous action.</div>"
   ]
  },
  {
   "cell_type": "markdown",
   "id": "7575caad-44fc-4086-9b59-fa199d7dce30",
   "metadata": {},
   "source": [
    "# 2. Display mathematical expressions inside the code cell\n",
    "- Syntax: `Math(r'...stuff in latex......')`\n",
    "- r stands for raw strings"
   ]
  },
  {
   "cell_type": "code",
   "execution_count": 591,
   "id": "f628e179-5bcb-4ef4-8bc3-3857ea3851c3",
   "metadata": {},
   "outputs": [],
   "source": [
    "import sympy as sp\n",
    "import numpy as np\n",
    "import math\n",
    "from IPython.display import display, Math, Latex\n",
    "from sympy.interactive import printing\n",
    "printing.init_printing(use_latex=True)"
   ]
  },
  {
   "cell_type": "code",
   "execution_count": 612,
   "id": "3b0982ce-5ccd-40af-86c5-337b3daba32b",
   "metadata": {},
   "outputs": [
    {
     "data": {
      "text/latex": [
       "$\\displaystyle \\Psi=\\frac{\\tau}{2 \\mu}$"
      ],
      "text/plain": [
       "<IPython.core.display.Math object>"
      ]
     },
     "metadata": {},
     "output_type": "display_data"
    },
    {
     "data": {
      "text/latex": [
       "$\\displaystyle f(p) = \\int_{-\\infty}^{\\infty} f(x) e^{-i p x} dx$"
      ],
      "text/plain": [
       "<IPython.core.display.Math object>"
      ]
     },
     "metadata": {},
     "output_type": "display_data"
    },
    {
     "data": {
      "text/latex": [
       "$\\displaystyle f(x) = \\int_{-\\infty}^{\\infty} f(p) e^{i p x} \\frac{dp}{2\\pi}$"
      ],
      "text/plain": [
       "<IPython.core.display.Math object>"
      ]
     },
     "metadata": {},
     "output_type": "display_data"
    },
    {
     "data": {
      "text/latex": [
       "$\\displaystyle \\text{Maxwell's equations:}\\hspace 1cm\\partial_{a} F^{ab}=\\frac{4\\pi}{c}J^{b}$"
      ],
      "text/plain": [
       "<IPython.core.display.Math object>"
      ]
     },
     "metadata": {},
     "output_type": "display_data"
    },
    {
     "data": {
      "text/latex": [
       "$\\displaystyle \\hspace 5cm\\partial_{a} \\mathcal{F}^{ab}=0$"
      ],
      "text/plain": [
       "<IPython.core.display.Math object>"
      ]
     },
     "metadata": {},
     "output_type": "display_data"
    },
    {
     "data": {
      "text/latex": [
       "Maxwell's eqn in vector form:\\begin{eqnarray}\n",
       "\\nabla \\times \\vec{\\mathbf{B}} -\\, \\frac1c\\, \\frac{\\partial\\vec{\\mathbf{E}}}{\\partial t} & = \\frac{4\\pi}{c}\\vec{\\mathbf{j}} \\\\\n",
       "\\nabla \\cdot \\vec{\\mathbf{E}} & = 4 \\pi \\rho \\\\\n",
       "\\nabla \\times \\vec{\\mathbf{E}}\\, +\\, \\frac1c\\, \\frac{\\partial\\vec{\\mathbf{B}}}{\\partial t} & = \\vec{\\mathbf{0}} \\\\\n",
       "\\nabla \\cdot \\vec{\\mathbf{B}} & = 0 \n",
       "\\end{eqnarray}"
      ],
      "text/plain": [
       "<IPython.core.display.Latex object>"
      ]
     },
     "metadata": {},
     "output_type": "display_data"
    },
    {
     "data": {
      "image/png": "[encoded data removed]",
      "text/latex": [
       "$\\displaystyle 2 \\cdot 2^{\\frac{3}{4}} \\sqrt{\\frac{\\tau^{\\frac{7}{2}}}{\\mu}}$"
      ],
      "text/plain": [
       "            ______\n",
       "           ╱  7/2 \n",
       "   3/4    ╱  τ    \n",
       "2⋅2   ⋅  ╱   ──── \n",
       "       ╲╱     μ   "
      ]
     },
     "metadata": {},
     "output_type": "display_data"
    }
   ],
   "source": [
    "#type 1\n",
    "display(Math(r'\\Psi=\\frac{\\tau}{2 \\mu}'))\n",
    "display(Math(r'f(p) = \\int_{-\\infty}^{\\infty} f(x) e^{-i p x} dx'))\n",
    "display(Math(r'f(x) = \\int_{-\\infty}^{\\infty} f(p) e^{i p x} \\frac{dp}{2\\pi}'))\n",
    "display(Math(r\"\\text{Maxwell's equations:}\\hspace 1cm\\partial_{a} F^{ab}=\\frac{4\\pi}{c}J^{b}\"))\n",
    "display(Math(r'\\hspace 5cm\\partial_{a} \\mathcal{F}^{ab}=0'))\n",
    "\n",
    "#type 2\n",
    "display(Latex(r\"\"\"Maxwell's eqn in vector form:\\begin{eqnarray}\n",
    "\\nabla \\times \\vec{\\mathbf{B}} -\\, \\frac1c\\, \\frac{\\partial\\vec{\\mathbf{E}}}{\\partial t} & = \\frac{4\\pi}{c}\\vec{\\mathbf{j}} \\\\\n",
    "\\nabla \\cdot \\vec{\\mathbf{E}} & = 4 \\pi \\rho \\\\\n",
    "\\nabla \\times \\vec{\\mathbf{E}}\\, +\\, \\frac1c\\, \\frac{\\partial\\vec{\\mathbf{B}}}{\\partial t} & = \\vec{\\mathbf{0}} \\\\\n",
    "\\nabla \\cdot \\vec{\\mathbf{B}} & = 0 \n",
    "\\end{eqnarray}\"\"\"))\n",
    "\n",
    "#type 3\n",
    "from sympy.abc import x, y, mu, r, tau\n",
    "display(sp.sqrt(((2*tau)**sp.Rational(7,2))/mu))  #display the expression directly and can manipulate them\n",
    "\n"
   ]
  },
  {
   "cell_type": "markdown",
   "id": "07a5b0e1-e078-4435-b82b-91b60f2ae7a1",
   "metadata": {},
   "source": [
    "# 3.Calculus written using sympy"
   ]
  },
  {
   "cell_type": "markdown",
   "id": "3a4a96ea-7e12-4e65-909a-3c746d45ed54",
   "metadata": {},
   "source": [
    "## 3.1 Integrals"
   ]
  },
  {
   "cell_type": "markdown",
   "id": "c04be41c-c863-49fd-aaa4-dc947502b125",
   "metadata": {},
   "source": [
    "- Not only one can display integrals and differentials but also evaluate them\n",
    "- `sp.Integral()` : display unevaluated integral\n",
    "- `expr.doit()`: to evaluate the unevaluated expression(Integral)\n",
    "- `sp.integrate()`: evaluate integral\n",
    "- `sp.Function()`: to create a mathematical function"
   ]
  },
  {
   "cell_type": "code",
   "execution_count": 593,
   "id": "512cf844-114e-446b-8562-71a3dd8734b6",
   "metadata": {},
   "outputs": [
    {
     "data": {
      "text/plain": [
       "'function: '"
      ]
     },
     "metadata": {},
     "output_type": "display_data"
    },
    {
     "data": {
      "image/png": "[encoded data removed]",
      "text/latex": [
       "$\\displaystyle f{\\left(x \\right)}$"
      ],
      "text/plain": [
       "f(x)"
      ]
     },
     "metadata": {},
     "output_type": "display_data"
    },
    {
     "data": {
      "text/plain": [
       "'this is my function choice '"
      ]
     },
     "metadata": {},
     "output_type": "display_data"
    },
    {
     "data": {
      "image/png": "[encoded data removed]",
      "text/latex": [
       "$\\displaystyle \\sin{\\left(x \\right)}$"
      ],
      "text/plain": [
       "sin(x)"
      ]
     },
     "metadata": {},
     "output_type": "display_data"
    },
    {
     "data": {
      "text/plain": [
       "'the integral of the function '"
      ]
     },
     "metadata": {},
     "output_type": "display_data"
    },
    {
     "data": {
      "image/png": "[encoded data removed]",
      "text/latex": [
       "$\\displaystyle \\int \\sin{\\left(x \\right)}\\, dx$"
      ],
      "text/plain": [
       "⌠          \n",
       "⎮ sin(x) dx\n",
       "⌡          "
      ]
     },
     "metadata": {},
     "output_type": "display_data"
    },
    {
     "data": {
      "text/plain": [
       "'the answer to the integral'"
      ]
     },
     "metadata": {},
     "output_type": "display_data"
    },
    {
     "data": {
      "image/png": "[encoded data removed]",
      "text/latex": [
       "$\\displaystyle - \\cos{\\left(x \\right)}$"
      ],
      "text/plain": [
       "-cos(x)"
      ]
     },
     "metadata": {},
     "output_type": "display_data"
    },
    {
     "data": {
      "text/plain": [
       "'the derivative of the function'"
      ]
     },
     "metadata": {},
     "output_type": "display_data"
    },
    {
     "data": {
      "image/png": "[encoded data removed]",
      "text/latex": [
       "$\\displaystyle \\frac{d}{d x} \\sin{\\left(x \\right)}$"
      ],
      "text/plain": [
       "d         \n",
       "──(sin(x))\n",
       "dx        "
      ]
     },
     "metadata": {},
     "output_type": "display_data"
    },
    {
     "data": {
      "text/plain": [
       "'the answer to the derivative '"
      ]
     },
     "metadata": {},
     "output_type": "display_data"
    },
    {
     "data": {
      "image/png": "[encoded data removed]",
      "text/latex": [
       "$\\displaystyle \\cos{\\left(x \\right)}$"
      ],
      "text/plain": [
       "cos(x)"
      ]
     },
     "metadata": {},
     "output_type": "display_data"
    },
    {
     "data": {
      "image/png": "[encoded data removed]",
      "text/latex": [
       "$\\displaystyle \\int \\frac{e^{p x}}{2 \\pi}\\, dx$"
      ],
      "text/plain": [
       "⌠        \n",
       "⎮  p⋅x   \n",
       "⎮ ℯ      \n",
       "⎮ ──── dx\n",
       "⎮ 2⋅π    \n",
       "⌡        "
      ]
     },
     "metadata": {},
     "output_type": "display_data"
    },
    {
     "data": {
      "image/png": "[encoded data removed]",
      "text/latex": [
       "$\\displaystyle \\begin{cases} \\frac{e^{p x}}{2 \\pi p} & \\text{for}\\: \\pi p \\neq 0 \\\\\\frac{x}{2 \\pi} & \\text{otherwise} \\end{cases}$"
      ],
      "text/plain": [
       "⎧ p⋅x              \n",
       "⎪ℯ                 \n",
       "⎪─────  for π⋅p ≠ 0\n",
       "⎪2⋅π⋅p             \n",
       "⎨                  \n",
       "⎪  x               \n",
       "⎪ ───    otherwise \n",
       "⎪ 2⋅π              \n",
       "⎩                  "
      ]
     },
     "metadata": {},
     "output_type": "display_data"
    }
   ],
   "source": [
    "#example 1\n",
    "f = sp.Function('f')(x)    #display(sp.Symbol('theta'))\n",
    "                             #display(sp.Symbol('gamma'))\n",
    "display(\"function: \",f)\n",
    "x,n,p = sp.symbols('x n p')\n",
    "f1 = sp.sin(x)\n",
    "display (\"this is my function choice \" ,f1)\n",
    "\n",
    "inte = sp.Integral(f1,x)\n",
    "display(\"the integral of the function \",inte)\n",
    "answer1=sp.integrate(f1,x)\n",
    "display(\"the answer to the integral\",answer1)\n",
    "deriv=sp.Derivative(f1,x)\n",
    "answer2=sp.diff(f1,x)\n",
    "display(\"the derivative of the function\",deriv)\n",
    "display(\"the answer to the derivative \",answer2)\n",
    "\n",
    "#example 2\n",
    "i2= 1/(2 * sp.pi) * sp.exp(p*x)\n",
    "display(sp.Integral(i2,x))\n",
    "ansi2=sp.integrate(i2,x)\n",
    "display(ansi2)"
   ]
  },
  {
   "cell_type": "code",
   "execution_count": 594,
   "id": "5da44cb9-7583-449e-873f-2a65ef0f0a93",
   "metadata": {},
   "outputs": [
    {
     "data": {
      "image/png": "[encoded data removed]",
      "text/latex": [
       "$\\displaystyle \\int e^{x} \\cos{\\left(2 x \\right)}\\, dx$"
      ],
      "text/plain": [
       "⌠               \n",
       "⎮  x            \n",
       "⎮ ℯ ⋅cos(2⋅x) dx\n",
       "⌡               "
      ]
     },
     "metadata": {},
     "output_type": "display_data"
    },
    {
     "data": {
      "image/png": "[encoded data removed]",
      "text/latex": [
       "$\\displaystyle \\frac{4 e^{x} \\sin{\\left(2 x \\right)}}{25} - \\frac{3 e^{x} \\cos{\\left(2 x \\right)}}{25}$"
      ],
      "text/plain": [
       "   x               x         \n",
       "4⋅ℯ ⋅sin(2⋅x)   3⋅ℯ ⋅cos(2⋅x)\n",
       "───────────── - ─────────────\n",
       "     25              25      "
      ]
     },
     "metadata": {},
     "output_type": "display_data"
    }
   ],
   "source": [
    "#example 3\n",
    "x,e=sp.symbols('x e')\n",
    "inte=sp.Integral(sp.exp(x)*sp.cos(2*x),x)\n",
    "display(inte)\n",
    "answer=sp.integrate(inte,x)\n",
    "display(answer)"
   ]
  },
  {
   "cell_type": "code",
   "execution_count": 595,
   "id": "765aa27d-e75a-4638-aed1-7e6c03928d71",
   "metadata": {},
   "outputs": [
    {
     "data": {
      "image/png": "[encoded data removed]",
      "text/latex": [
       "$\\displaystyle \\int \\left(8 x^{\\frac{6}{5}} - 7 x^{\\frac{3}{2}}\\right)\\, dx$"
      ],
      "text/plain": [
       "⌠                     \n",
       "⎮ ⎛   6/5      3/2⎞   \n",
       "⎮ ⎝8⋅x    - 7⋅x   ⎠ dx\n",
       "⌡                     "
      ]
     },
     "metadata": {},
     "output_type": "display_data"
    },
    {
     "data": {
      "image/png": "[encoded data removed]",
      "text/latex": [
       "$\\displaystyle \\frac{40 x^{\\frac{11}{5}}}{11} - \\frac{14 x^{\\frac{5}{2}}}{5}$"
      ],
      "text/plain": [
       "    11/5       5/2\n",
       "40⋅x       14⋅x   \n",
       "──────── - ───────\n",
       "   11         5   "
      ]
     },
     "metadata": {},
     "output_type": "display_data"
    }
   ],
   "source": [
    "#example 4\n",
    "x =sp.Symbol('x')\n",
    "inte=sp.Integral(8*x**sp.Rational(6,5)-7*x**sp.Rational(3,2),x)\n",
    "ii = sp.Integral(8*x**sp.Rational(6,5)-7*x**sp.Rational(3,2),x).doit()\n",
    "display(inte)\n",
    "display(ii)"
   ]
  },
  {
   "cell_type": "code",
   "execution_count": 596,
   "id": "371967a6-0551-43a4-99b4-d6c8f84c8c96",
   "metadata": {},
   "outputs": [
    {
     "data": {
      "text/plain": [
       "'the integral is:'"
      ]
     },
     "metadata": {},
     "output_type": "display_data"
    },
    {
     "data": {
      "image/png": "[encoded data removed]",
      "text/latex": [
       "$\\displaystyle \\int \\log{\\left(x^{2} \\right)}\\, dx$"
      ],
      "text/plain": [
       "⌠           \n",
       "⎮    ⎛ 2⎞   \n",
       "⎮ log⎝x ⎠ dx\n",
       "⌡           "
      ]
     },
     "metadata": {},
     "output_type": "display_data"
    },
    {
     "data": {
      "text/plain": [
       "'the answer:'"
      ]
     },
     "metadata": {},
     "output_type": "display_data"
    },
    {
     "data": {
      "image/png": "[encoded data removed]",
      "text/latex": [
       "$\\displaystyle x \\log{\\left(x^{2} \\right)} - 2 x$"
      ],
      "text/plain": [
       "     ⎛ 2⎞      \n",
       "x⋅log⎝x ⎠ - 2⋅x"
      ]
     },
     "metadata": {},
     "output_type": "display_data"
    },
    {
     "data": {
      "text/plain": [
       "'The integral is'"
      ]
     },
     "metadata": {},
     "output_type": "display_data"
    },
    {
     "data": {
      "image/png": "[encoded data removed]",
      "text/latex": [
       "$\\displaystyle \\int \\sin{\\left(x^{2} \\right)}\\, dx$"
      ],
      "text/plain": [
       "⌠           \n",
       "⎮    ⎛ 2⎞   \n",
       "⎮ sin⎝x ⎠ dx\n",
       "⌡           "
      ]
     },
     "metadata": {},
     "output_type": "display_data"
    },
    {
     "data": {
      "text/plain": [
       "'The answer :'"
      ]
     },
     "metadata": {},
     "output_type": "display_data"
    },
    {
     "data": {
      "image/png": "[encoded data removed]",
      "text/latex": [
       "$\\displaystyle \\frac{3 \\sqrt{2} \\sqrt{\\pi} S\\left(\\frac{\\sqrt{2} x}{\\sqrt{\\pi}}\\right) \\Gamma\\left(\\frac{3}{4}\\right)}{8 \\Gamma\\left(\\frac{7}{4}\\right)}$"
      ],
      "text/plain": [
       "         ⎛√2⋅x⎞       \n",
       "3⋅√2⋅√π⋅S⎜────⎟⋅Γ(3/4)\n",
       "         ⎝ √π ⎠       \n",
       "──────────────────────\n",
       "       8⋅Γ(7/4)       "
      ]
     },
     "metadata": {},
     "output_type": "display_data"
    },
    {
     "data": {
      "text/latex": [
       "$\\displaystyle S(x)\\equiv\\displaystyle\\int_{0}^{x}\\sin(t^2) dt \\hspace 1cm\\text{it is called Fresnel Integral}$"
      ],
      "text/plain": [
       "<IPython.core.display.Math object>"
      ]
     },
     "metadata": {},
     "output_type": "display_data"
    }
   ],
   "source": [
    "#example 5\n",
    "I1=sp.Integral(sp.log(x**2),x)\n",
    "display('the integral is:',I1)\n",
    "display(\"the answer:\",I1.doit())\n",
    "\n",
    "#example 6\n",
    "I2=sp.Integral(sp.sin(x**2),x)\n",
    "display(\"The integral is\",I2)\n",
    "display(\"The answer :\",I2.doit())\n",
    "display(Math(r'S(x)\\equiv\\displaystyle\\int_{0}^{x}\\sin(t^2) dt \\hspace 1cm\\text{it is called Fresnel Integral}'))"
   ]
  },
  {
   "cell_type": "markdown",
   "id": "f3103f0a-fa41-4027-84f5-7fd524bbbae8",
   "metadata": {},
   "source": [
    "## 3.2 Differentials and differential equations\n",
    "- `sp.Derivative()` : display unevaluated derivative\n",
    "- `sp.diff()`: evaluate derivative\n",
    "- `sp.Eq(LHS,RHS)` : to set up the equation\n",
    "- `sp.dsolve(diff_eqn,variable to solve)`: to solve an ODE"
   ]
  },
  {
   "cell_type": "code",
   "execution_count": 597,
   "id": "b96dd149-eff6-47b1-adb5-bc8a39c85092",
   "metadata": {},
   "outputs": [
    {
     "data": {
      "text/plain": [
       "'the function given is'"
      ]
     },
     "metadata": {},
     "output_type": "display_data"
    },
    {
     "data": {
      "image/png": "[encoded data removed]",
      "text/latex": [
       "$\\displaystyle f{\\left(x \\right)}$"
      ],
      "text/plain": [
       "f(x)"
      ]
     },
     "metadata": {},
     "output_type": "display_data"
    },
    {
     "data": {
      "text/plain": [
       "'1st derivative of f(x)'"
      ]
     },
     "metadata": {},
     "output_type": "display_data"
    },
    {
     "data": {
      "image/png": "[encoded data removed]",
      "text/latex": [
       "$\\displaystyle \\frac{d}{d x} f{\\left(x \\right)}$"
      ],
      "text/plain": [
       "d       \n",
       "──(f(x))\n",
       "dx      "
      ]
     },
     "metadata": {},
     "output_type": "display_data"
    },
    {
     "data": {
      "text/plain": [
       "'2nd order derivative wrt y'"
      ]
     },
     "metadata": {},
     "output_type": "display_data"
    },
    {
     "data": {
      "image/png": "[encoded data removed]",
      "text/latex": [
       "$\\displaystyle \\frac{\\partial^{2}}{\\partial y\\partial x} f{\\left(x,y \\right)}$"
      ],
      "text/plain": [
       "  2           \n",
       " ∂            \n",
       "─────(f(x, y))\n",
       "∂y ∂x         "
      ]
     },
     "metadata": {},
     "output_type": "display_data"
    },
    {
     "data": {
      "text/latex": [
       "$\\displaystyle \\text{the given differential equation to solve:} \\frac{d^2 f(x)}{dx^2}-5f(x)=10$"
      ],
      "text/plain": [
       "<IPython.core.display.Math object>"
      ]
     },
     "metadata": {},
     "output_type": "display_data"
    },
    {
     "data": {
      "image/png": "[encoded data removed]",
      "text/latex": [
       "$\\displaystyle - 5 f{\\left(x \\right)} + \\frac{d^{2}}{d x^{2}} f{\\left(x \\right)} = 10$"
      ],
      "text/plain": [
       "           2            \n",
       "          d             \n",
       "-5⋅f(x) + ───(f(x)) = 10\n",
       "            2           \n",
       "          dx            "
      ]
     },
     "metadata": {},
     "output_type": "display_data"
    },
    {
     "data": {
      "text/plain": [
       "'The solution f(x) is'"
      ]
     },
     "metadata": {},
     "output_type": "display_data"
    },
    {
     "data": {
      "image/png": "[encoded data removed]",
      "text/latex": [
       "$\\displaystyle f{\\left(x \\right)} = C_{1} e^{- \\sqrt{5} x} + C_{2} e^{\\sqrt{5} x} - 2$"
      ],
      "text/plain": [
       "           -√5⋅x       √5⋅x    \n",
       "f(x) = C₁⋅ℯ      + C₂⋅ℯ     - 2"
      ]
     },
     "metadata": {},
     "output_type": "display_data"
    }
   ],
   "source": [
    "x,y=sp.symbols('x y')\n",
    "f1=sp.Function('f')(x)\n",
    "f2=sp.Function('f')(x,y)\n",
    "display('the function given is',f1)\n",
    "display(\"1st derivative of f(x)\",f1.diff(x))\n",
    "display(\"2nd order derivative wrt y\",f2.diff(x,y))\n",
    "\n",
    "diffeq=sp.Eq(f1.diff(x,2)-5*f1,10)\n",
    "display(Math(r'\\text{the given differential equation to solve:} \\frac{d^2 f(x)}{dx^2}-5f(x)=10'),diffeq)\n",
    "display(\"The solution f(x) is\",sp.dsolve(diffeq,f1))"
   ]
  },
  {
   "cell_type": "markdown",
   "id": "6979d5bc-2ccb-451f-8459-1d7a3aad719c",
   "metadata": {},
   "source": [
    "## 3.3.Integral Transforms\n",
    "### 3.3.1 Laplace transform\n",
    "$f(s)=\\displaystyle\\int_{0}^{\\infty} e^{-st}f(t) dt$\n",
    "- `sp.LaplaceTransform(f,t,s)` :to display the unevaluated laplace transform\n",
    "- `func.doit()`: to evaluate the unevaluated LT\n",
    "- `sp.laplace_transform(f,t,s)`: evaluates the LT and returns `(F(s),a,cond)` where a=half plane of convergence\n",
    "- (recall this is an improper integral, with an infinite bound, so it will not always converge)"
   ]
  },
  {
   "cell_type": "code",
   "execution_count": 598,
   "id": "fdeae665-9003-4551-884b-409c6ef0f21c",
   "metadata": {},
   "outputs": [
    {
     "data": {
      "text/plain": [
       "'the function to be evaluated:'"
      ]
     },
     "metadata": {},
     "output_type": "display_data"
    },
    {
     "data": {
      "image/png": "[encoded data removed]",
      "text/latex": [
       "$\\displaystyle \\mathcal{L}_{t}\\left[e^{a t}\\right]\\left(s\\right)$"
      ],
      "text/plain": [
       "                ⎛ a⋅t      ⎞\n",
       "LaplaceTransform⎝ℯ   , t, s⎠"
      ]
     },
     "metadata": {},
     "output_type": "display_data"
    },
    {
     "data": {
      "text/plain": [
       "'lap transform is:'"
      ]
     },
     "metadata": {},
     "output_type": "display_data"
    },
    {
     "data": {
      "image/png": "[encoded data removed]",
      "text/latex": [
       "$\\displaystyle \\frac{1}{- a + s}$"
      ],
      "text/plain": [
       "  1   \n",
       "──────\n",
       "-a + s"
      ]
     },
     "metadata": {},
     "output_type": "display_data"
    },
    {
     "data": {
      "image/png": "[encoded data removed]",
      "text/plain": [
       "<Figure size 300x300 with 1 Axes>"
      ]
     },
     "metadata": {},
     "output_type": "display_data"
    },
    {
     "data": {
      "image/png": "[encoded data removed]",
      "text/plain": [
       "<Figure size 300x300 with 1 Axes>"
      ]
     },
     "metadata": {},
     "output_type": "display_data"
    },
    {
     "data": {
      "text/plain": [
       "<sympy.plotting.backends.matplotlibbackend.matplotlib.MatplotlibBackend at 0x7a27c8ac8c50>"
      ]
     },
     "execution_count": 598,
     "metadata": {},
     "output_type": "execute_result"
    }
   ],
   "source": [
    "a,b,t,s=sp.symbols('a,b,t,s')\n",
    "\n",
    "#example 1\n",
    "f1=sp.exp(a*t)\n",
    "tran1=sp.LaplaceTransform(f1,t,s)\n",
    "display(\"the function to be evaluated:\",tran1)\n",
    "display(\"lap transform is:\",tran1.doit())\n",
    "\n",
    "#Plotting\n",
    "sp.plot(f1.subs(a,2),(t,0,5),size=(3,3),title=r'$f(t)=e^{2t}$')\n",
    "sp.plot(tran1.doit().subs(a,2),size=(3,3),title=r'$f(s)=\\frac{1}{s-2}$')"
   ]
  },
  {
   "cell_type": "code",
   "execution_count": 599,
   "id": "08cf836e-f603-42c6-89ca-5ad8f6ee2d4e",
   "metadata": {},
   "outputs": [
    {
     "data": {
      "text/plain": [
       "'the function to be evaluated:'"
      ]
     },
     "metadata": {},
     "output_type": "display_data"
    },
    {
     "data": {
      "image/png": "[encoded data removed]",
      "text/latex": [
       "$\\displaystyle \\mathcal{L}_{t}\\left[e^{a t} \\sin{\\left(b t \\right)}\\right]\\left(s\\right)$"
      ],
      "text/plain": [
       "                ⎛ a⋅t               ⎞\n",
       "LaplaceTransform⎝ℯ   ⋅sin(b⋅t), t, s⎠"
      ]
     },
     "metadata": {},
     "output_type": "display_data"
    },
    {
     "data": {
      "text/plain": [
       "'lap transform is:'"
      ]
     },
     "metadata": {},
     "output_type": "display_data"
    },
    {
     "data": {
      "image/png": "[encoded data removed]",
      "text/latex": [
       "$\\displaystyle \\frac{b}{b^{2} + \\left(- a + s\\right)^{2}}$"
      ],
      "text/plain": [
       "      b       \n",
       "──────────────\n",
       " 2           2\n",
       "b  + (-a + s) "
      ]
     },
     "metadata": {},
     "output_type": "display_data"
    },
    {
     "data": {
      "text/plain": [
       "'the function to be evaluated:'"
      ]
     },
     "metadata": {},
     "output_type": "display_data"
    },
    {
     "data": {
      "image/png": "[encoded data removed]",
      "text/latex": [
       "$\\displaystyle \\mathcal{L}_{t}\\left[- a e^{- a t} + \\delta\\left(t\\right)\\right]\\left(s\\right)$"
      ],
      "text/plain": [
       "                ⎛     -a⋅t             ⎞\n",
       "LaplaceTransform⎝- a⋅ℯ     + δ(t), t, s⎠"
      ]
     },
     "metadata": {},
     "output_type": "display_data"
    },
    {
     "data": {
      "text/plain": [
       "'lap transform is:'"
      ]
     },
     "metadata": {},
     "output_type": "display_data"
    },
    {
     "data": {
      "image/png": "[encoded data removed]",
      "text/latex": [
       "$\\displaystyle \\frac{s}{a + s}$"
      ],
      "text/plain": [
       "  s  \n",
       "─────\n",
       "a + s"
      ]
     },
     "metadata": {},
     "output_type": "display_data"
    }
   ],
   "source": [
    "#example 2\n",
    "f2=sp.exp(a*t)*sp.sin(b*t)\n",
    "tran2=sp.LaplaceTransform(f2,t,s)\n",
    "display(\"the function to be evaluated:\",tran2)\n",
    "display(\"lap transform is:\",tran2.doit())\n",
    "\n",
    "#example 3 \n",
    "f3=sp.DiracDelta(t)-a*sp.exp(-a*t)\n",
    "tran3=sp.LaplaceTransform(f3,t,s)\n",
    "display(\"the function to be evaluated:\",tran3)\n",
    "answ=sp.laplace_transform(f3,t,s,simplify=True)\n",
    "display(\"lap transform is:\",answ[0])"
   ]
  },
  {
   "cell_type": "code",
   "execution_count": 600,
   "id": "410b7f54-485e-4536-868d-699380996ba2",
   "metadata": {},
   "outputs": [
    {
     "data": {
      "text/plain": [
       "'The laplace transform of the following:'"
      ]
     },
     "metadata": {},
     "output_type": "display_data"
    },
    {
     "data": {
      "image/png": "[encoded data removed]",
      "text/latex": [
       "$\\displaystyle \\mathcal{L}_{t}\\left[\\frac{\\sin{\\left(a t \\right)}}{t}\\right]\\left(s\\right)$"
      ],
      "text/plain": [
       "                ⎛sin(a⋅t)      ⎞\n",
       "LaplaceTransform⎜────────, t, s⎟\n",
       "                ⎝   t          ⎠"
      ]
     },
     "metadata": {},
     "output_type": "display_data"
    },
    {
     "data": {
      "text/plain": [
       "'(answer,half plane of convergence,condition of convergence):'"
      ]
     },
     "metadata": {},
     "output_type": "display_data"
    },
    {
     "data": {
      "image/png": "[encoded data removed]",
      "text/latex": [
       "$\\displaystyle \\left( \\operatorname{atan}{\\left(\\frac{a}{s} \\right)}, \\  \\left|{\\operatorname{im}{\\left(a\\right)}}\\right|, \\  \\text{True}\\right)$"
      ],
      "text/plain": [
       "⎛    ⎛a⎞               ⎞\n",
       "⎜atan⎜─⎟, │im(a)│, True⎟\n",
       "⎝    ⎝s⎠               ⎠"
      ]
     },
     "metadata": {},
     "output_type": "display_data"
    },
    {
     "data": {
      "text/plain": [
       "'The laplace transform of the following:'"
      ]
     },
     "metadata": {},
     "output_type": "display_data"
    },
    {
     "data": {
      "image/png": "[encoded data removed]",
      "text/latex": [
       "$\\displaystyle \\mathcal{L}_{t}\\left[\\delta\\left(t\\right)\\right]\\left(s\\right)$"
      ],
      "text/plain": [
       "LaplaceTransform(δ(t), t, s)"
      ]
     },
     "metadata": {},
     "output_type": "display_data"
    },
    {
     "data": {
      "text/plain": [
       "'(answer,half plane of convergence,condition of convergence):'"
      ]
     },
     "metadata": {},
     "output_type": "display_data"
    },
    {
     "data": {
      "image/png": "[encoded data removed]",
      "text/latex": [
       "$\\displaystyle \\left( 1, \\  -\\infty, \\  \\text{True}\\right)$"
      ],
      "text/plain": [
       "(1, -∞, True)"
      ]
     },
     "metadata": {},
     "output_type": "display_data"
    },
    {
     "data": {
      "text/plain": [
       "'The Inverse laplace transform of the following:'"
      ]
     },
     "metadata": {},
     "output_type": "display_data"
    },
    {
     "data": {
      "image/png": "[encoded data removed]",
      "text/latex": [
       "$\\displaystyle \\left(\\frac{1}{s} + \\frac{3}{s^{2}}\\right) e^{- s}$"
      ],
      "text/plain": [
       "⎛1   3 ⎞  -s\n",
       "⎜─ + ──⎟⋅ℯ  \n",
       "⎜s    2⎟    \n",
       "⎝    s ⎠    "
      ]
     },
     "metadata": {},
     "output_type": "display_data"
    },
    {
     "data": {
      "text/plain": [
       "'answer:'"
      ]
     },
     "metadata": {},
     "output_type": "display_data"
    },
    {
     "data": {
      "image/png": "[encoded data removed]",
      "text/latex": [
       "$\\displaystyle \\left(3 t - 2\\right) \\theta\\left(t - 1\\right)$"
      ],
      "text/plain": [
       "(3⋅t - 2)⋅θ(t - 1)"
      ]
     },
     "metadata": {},
     "output_type": "display_data"
    }
   ],
   "source": [
    "#example 4\n",
    "display(\"The laplace transform of the following:\",sp.LaplaceTransform(sp.sin(a*t)/t,t,s))\n",
    "display(\"(answer,half plane of convergence,condition of convergence):\",sp.laplace_transform(sp.sin(a*t)/t,t,s,simplify=True))\n",
    "\n",
    "#example 5\n",
    "display(\"The laplace transform of the following:\",sp.LaplaceTransform(sp.DiracDelta(t),t,s))\n",
    "display(\"(answer,half plane of convergence,condition of convergence):\",sp.laplace_transform(sp.DiracDelta(t),t,s,simplify=True))\n",
    "\n",
    "#example 6\n",
    "display(\"The Inverse laplace transform of the following:\",sp.exp(-s)*(1/s +3/s**2))\n",
    "display(\"answer:\",sp.inverse_laplace_transform(sp.exp(-s)*(1/s +3/s**2),s,t).simplify())\n"
   ]
  },
  {
   "cell_type": "markdown",
   "id": "8f094ffd-5d1f-4320-bca0-add4fef9d9f2",
   "metadata": {},
   "source": [
    "#### 3.3.1.1 Table of standard Laplace Tranforms"
   ]
  },
  {
   "cell_type": "code",
   "execution_count": 601,
   "id": "c43e91e7-148f-48de-ac53-187380296bec",
   "metadata": {},
   "outputs": [
    {
     "data": {
      "text/plain": [
       "'the functions to laplace transform:'"
      ]
     },
     "metadata": {},
     "output_type": "display_data"
    },
    {
     "data": {
      "image/png": "[encoded data removed]",
      "text/latex": [
       "$\\displaystyle \\left[ 1, \\  t^{n}, \\  e^{a t}, \\  \\sin{\\left(a t \\right)}, \\  \\cos{\\left(a t \\right)}, \\  \\sinh{\\left(a t \\right)}, \\  \\cosh{\\left(a t \\right)}, \\  e^{a t} \\sin{\\left(b t \\right)}, \\  e^{a t} \\cos{\\left(b t \\right)}, \\  e^{a t} \\sinh{\\left(b t \\right)}, \\  e^{a t} \\cosh{\\left(b t \\right)}, \\  f{\\left(t \\right)} e^{a t}\\right]$"
      ],
      "text/plain": [
       "⎡    n   a⋅t                                             a⋅t            a⋅t    ↪\n",
       "⎣1, t , ℯ   , sin(a⋅t), cos(a⋅t), sinh(a⋅t), cosh(a⋅t), ℯ   ⋅sin(b⋅t), ℯ   ⋅co ↪\n",
       "\n",
       "↪          a⋅t             a⋅t                  a⋅t⎤\n",
       "↪ s(b⋅t), ℯ   ⋅sinh(b⋅t), ℯ   ⋅cosh(b⋅t), f(t)⋅ℯ   ⎦"
      ]
     },
     "metadata": {},
     "output_type": "display_data"
    },
    {
     "data": {
      "text/plain": [
       "'Laplace tranforms are:'"
      ]
     },
     "metadata": {},
     "output_type": "display_data"
    },
    {
     "data": {
      "image/png": "[encoded data removed]",
      "text/latex": [
       "$\\displaystyle \\left[ \\mathcal{L}_{t}\\left[1\\right]\\left(s\\right), \\  \\mathcal{L}_{t}\\left[t^{n}\\right]\\left(s\\right), \\  \\mathcal{L}_{t}\\left[e^{a t}\\right]\\left(s\\right), \\  \\mathcal{L}_{t}\\left[\\sin{\\left(a t \\right)}\\right]\\left(s\\right), \\  \\mathcal{L}_{t}\\left[\\cos{\\left(a t \\right)}\\right]\\left(s\\right), \\  \\mathcal{L}_{t}\\left[\\sinh{\\left(a t \\right)}\\right]\\left(s\\right), \\  \\mathcal{L}_{t}\\left[\\cosh{\\left(a t \\right)}\\right]\\left(s\\right), \\  \\mathcal{L}_{t}\\left[e^{a t} \\sin{\\left(b t \\right)}\\right]\\left(s\\right), \\  \\mathcal{L}_{t}\\left[e^{a t} \\cos{\\left(b t \\right)}\\right]\\left(s\\right), \\  \\mathcal{L}_{t}\\left[e^{a t} \\sinh{\\left(b t \\right)}\\right]\\left(s\\right), \\  \\mathcal{L}_{t}\\left[e^{a t} \\cosh{\\left(b t \\right)}\\right]\\left(s\\right), \\  \\mathcal{L}_{t}\\left[f{\\left(t \\right)} e^{a t}\\right]\\left(s\\right)\\right]$"
      ],
      "text/plain": [
       "⎡                                           ⎛ n      ⎞                  ⎛ a⋅t  ↪\n",
       "⎣LaplaceTransform(1, t, s), LaplaceTransform⎝t , t, s⎠, LaplaceTransform⎝ℯ   , ↪\n",
       "\n",
       "↪      ⎞                                                                       ↪\n",
       "↪  t, s⎠, LaplaceTransform(sin(a⋅t), t, s), LaplaceTransform(cos(a⋅t), t, s),  ↪\n",
       "\n",
       "↪                                                                              ↪\n",
       "↪ LaplaceTransform(sinh(a⋅t), t, s), LaplaceTransform(cosh(a⋅t), t, s), Laplac ↪\n",
       "\n",
       "↪           ⎛ a⋅t               ⎞                  ⎛ a⋅t               ⎞       ↪\n",
       "↪ eTransform⎝ℯ   ⋅sin(b⋅t), t, s⎠, LaplaceTransform⎝ℯ   ⋅cos(b⋅t), t, s⎠, Lapl ↪\n",
       "\n",
       "↪             ⎛ a⋅t                ⎞                  ⎛ a⋅t                ⎞   ↪\n",
       "↪ aceTransform⎝ℯ   ⋅sinh(b⋅t), t, s⎠, LaplaceTransform⎝ℯ   ⋅cosh(b⋅t), t, s⎠,  ↪\n",
       "\n",
       "↪                 ⎛      a⋅t      ⎞⎤\n",
       "↪ LaplaceTransform⎝f(t)⋅ℯ   , t, s⎠⎦"
      ]
     },
     "metadata": {},
     "output_type": "display_data"
    },
    {
     "data": {
      "text/plain": [
       "'Laplace tranforms are:'"
      ]
     },
     "metadata": {},
     "output_type": "display_data"
    },
    {
     "data": {
      "image/png": "[encoded data removed]",
      "text/latex": [
       "$\\displaystyle \\left[ \\frac{1}{s}, \\  s^{- n - 1} \\Gamma\\left(n + 1\\right), \\  \\frac{1}{- a + s}, \\  \\frac{a}{a^{2} + s^{2}}, \\  \\frac{s}{a^{2} + s^{2}}, \\  \\frac{a}{- a^{2} + s^{2}}, \\  \\frac{s}{- a^{2} + s^{2}}, \\  \\frac{b}{b^{2} + \\left(a - s\\right)^{2}}, \\  \\frac{- a + s}{b^{2} + \\left(a - s\\right)^{2}}, \\  - \\frac{b}{b^{2} - \\left(a - s\\right)^{2}}, \\  \\frac{a - s}{b^{2} - \\left(a - s\\right)^{2}}, \\  \\mathcal{L}_{t}\\left[f{\\left(t \\right)}\\right]\\left(- a + s\\right)\\right]$"
      ],
      "text/plain": [
       "⎡1   -n - 1             1        a        s         a          s            b  ↪\n",
       "⎢─, s      ⋅Γ(n + 1), ──────, ───────, ───────, ─────────, ─────────, ──────── ↪\n",
       "⎢s                    -a + s   2    2   2    2     2    2     2    2   2       ↪\n",
       "⎣                             a  + s   a  + s   - a  + s   - a  + s   b  + (a  ↪\n",
       "\n",
       "↪           -a + s           -b            a - s                               ↪\n",
       "↪ ─────, ─────────────, ─────────────, ─────────────, LaplaceTransform(f(t), t ↪\n",
       "↪     2   2          2   2          2   2          2                           ↪\n",
       "↪ - s)   b  + (a - s)   b  - (a - s)   b  - (a - s)                            ↪\n",
       "\n",
       "↪          ⎤\n",
       "↪ , -a + s)⎥\n",
       "↪          ⎥\n",
       "↪          ⎦"
      ]
     },
     "metadata": {},
     "output_type": "display_data"
    },
    {
     "data": {
      "text/plain": [
       "'Inverse Laplace tranforms are:'"
      ]
     },
     "metadata": {},
     "output_type": "display_data"
    },
    {
     "data": {
      "image/png": "[encoded data removed]",
      "text/latex": [
       "$\\displaystyle \\left[ \\theta\\left(t\\right), \\  t^{n} \\theta\\left(t\\right), \\  e^{a t} \\theta\\left(t\\right), \\  \\frac{a \\sin{\\left(t \\left|{a}\\right| \\right)} \\theta\\left(t\\right)}{\\left|{a}\\right|}, \\  \\cos{\\left(a t \\right)} \\theta\\left(t\\right), \\  \\sinh{\\left(a t \\right)} \\theta\\left(t\\right), \\  \\cosh{\\left(a t \\right)} \\theta\\left(t\\right), \\  \\frac{b e^{a t} \\sin{\\left(t \\left|{b}\\right| \\right)} \\theta\\left(t\\right)}{\\left|{b}\\right|}, \\  e^{a t} \\cos{\\left(b t \\right)} \\theta\\left(t\\right), \\  \\frac{\\left(- e^{t \\left(a - b\\right)} + e^{t \\left(a + b\\right)}\\right) \\theta\\left(t\\right)}{2}, \\  \\frac{\\left(e^{t \\left(a - b\\right)} + e^{t \\left(a + b\\right)}\\right) \\theta\\left(t\\right)}{2}, \\  \\mathcal{L}_{t}\\left[f{\\left(t \\right)}\\right]\\left(- a + s\\right) \\delta\\left(t\\right)\\right]$"
      ],
      "text/plain": [
       "⎡                                                                              ↪\n",
       "⎢       n        a⋅t       a⋅sin(t⋅│a│)⋅θ(t)                                   ↪\n",
       "⎢θ(t), t ⋅θ(t), ℯ   ⋅θ(t), ─────────────────, cos(a⋅t)⋅θ(t), sinh(a⋅t)⋅θ(t), c ↪\n",
       "⎣                                 │a│                                          ↪\n",
       "\n",
       "↪                   a⋅t                                      ⎛   t⋅(a - b)     ↪\n",
       "↪                b⋅ℯ   ⋅sin(t⋅│b│)⋅θ(t)   a⋅t                ⎝- ℯ          + ℯ ↪\n",
       "↪ osh(a⋅t)⋅θ(t), ──────────────────────, ℯ   ⋅cos(b⋅t)⋅θ(t), ───────────────── ↪\n",
       "↪                         │b│                                               2  ↪\n",
       "\n",
       "↪ t⋅(a + b)⎞       ⎛ t⋅(a - b)    t⋅(a + b)⎞                                   ↪\n",
       "↪          ⎠⋅θ(t)  ⎝ℯ          + ℯ         ⎠⋅θ(t)                              ↪\n",
       "↪ ───────────────, ──────────────────────────────, LaplaceTransform(f(t), t, - ↪\n",
       "↪                                2                                             ↪\n",
       "\n",
       "↪            ⎤\n",
       "↪            ⎥\n",
       "↪ a + s)⋅δ(t)⎥\n",
       "↪            ⎦"
      ]
     },
     "metadata": {},
     "output_type": "display_data"
    }
   ],
   "source": [
    "f=sp.Function('f')(t)\n",
    "a,b=sp.symbols('a,b',real=True)\n",
    "functions= [1,t**n,sp.exp(a*t),sp.sin(a*t),sp.cos(a*t),sp.sinh(a*t),sp.cosh(a*t),sp.exp(a*t)*sp.sin(b*t),sp.exp(a*t)*sp.cos(b*t),sp.exp(a*t)*sp.sinh(b*t),sp.exp(a*t)*sp.cosh(b*t),f*sp.exp(a*t)]\n",
    "display(\"the functions to laplace transform:\",functions)\n",
    "\n",
    "transform1= [sp.LaplaceTransform(f,t,s) for f in functions]\n",
    "display(\"Laplace tranforms are:\",transform1)\n",
    "\n",
    "transform2= [sp.simplify(sp.laplace_transform(f,t,s)[0]) for f in functions]\n",
    "display(\"Laplace tranforms are:\",transform2)\n",
    "\n",
    "transform3= [sp.simplify(sp.inverse_laplace_transform(f_inv,s,t)) for f_inv in transform2]\n",
    "display(\"Inverse Laplace tranforms are:\",transform3)\n"
   ]
  },
  {
   "cell_type": "markdown",
   "id": "a80bf32b-59a7-43ec-92d2-d413bfa71c92",
   "metadata": {},
   "source": [
    "#### 3.3.1.1 comment on Pandas and dataframes to create a nice table\n",
    "- `DataFrame` : it takes in a <mark>list</mark> or a dictionary as an input\n",
    "- With Pandas one can manually create table of different datatypes (unlike in numpy)\n",
    "- `zip` :Yields tuples until an input is exhausted.\n",
    "\n",
    "<div class=\"alert alert-block alert-info\">More on Pandas later in another notebook series.</div>"
   ]
  },
  {
   "cell_type": "code",
   "execution_count": 613,
   "id": "cd6927c9-9f34-4546-a06d-c0dd56067524",
   "metadata": {},
   "outputs": [
    {
     "data": {
      "text/html": [
       "<div>\n",
       "<style scoped>\n",
       "    .dataframe tbody tr th:only-of-type {\n",
       "        vertical-align: middle;\n",
       "    }\n",
       "\n",
       "    .dataframe tbody tr th {\n",
       "        vertical-align: top;\n",
       "    }\n",
       "\n",
       "    .dataframe thead th {\n",
       "        text-align: right;\n",
       "    }\n",
       "</style>\n",
       "<table border=\"1\" class=\"dataframe\">\n",
       "  <thead>\n",
       "    <tr style=\"text-align: right;\">\n",
       "      <th></th>\n",
       "      <th>0</th>\n",
       "      <th>1</th>\n",
       "    </tr>\n",
       "  </thead>\n",
       "  <tbody>\n",
       "    <tr>\n",
       "      <th>0</th>\n",
       "      <td>$$1$$</td>\n",
       "      <td>$$\\frac{1}{s}$$</td>\n",
       "    </tr>\n",
       "    <tr>\n",
       "      <th>1</th>\n",
       "      <td>$$t^{n}$$</td>\n",
       "      <td>$$s^{- n - 1} \\Gamma\\left(n + 1\\right)$$</td>\n",
       "    </tr>\n",
       "    <tr>\n",
       "      <th>2</th>\n",
       "      <td>$$e^{a t}$$</td>\n",
       "      <td>$$\\frac{1}{- a + s}$$</td>\n",
       "    </tr>\n",
       "    <tr>\n",
       "      <th>3</th>\n",
       "      <td>$$\\sin{\\left(a t \\right)}$$</td>\n",
       "      <td>$$\\frac{a}{a^{2} + s^{2}}$$</td>\n",
       "    </tr>\n",
       "    <tr>\n",
       "      <th>4</th>\n",
       "      <td>$$\\cos{\\left(a t \\right)}$$</td>\n",
       "      <td>$$\\frac{s}{a^{2} + s^{2}}$$</td>\n",
       "    </tr>\n",
       "    <tr>\n",
       "      <th>5</th>\n",
       "      <td>$$\\sinh{\\left(a t \\right)}$$</td>\n",
       "      <td>$$\\frac{a}{- a^{2} + s^{2}}$$</td>\n",
       "    </tr>\n",
       "    <tr>\n",
       "      <th>6</th>\n",
       "      <td>$$\\cosh{\\left(a t \\right)}$$</td>\n",
       "      <td>$$\\frac{s}{- a^{2} + s^{2}}$$</td>\n",
       "    </tr>\n",
       "    <tr>\n",
       "      <th>7</th>\n",
       "      <td>$$e^{a t} \\sin{\\left(b t \\right)}$$</td>\n",
       "      <td>$$\\frac{b}{b^{2} + \\left(a - s\\right)^{2}}$$</td>\n",
       "    </tr>\n",
       "    <tr>\n",
       "      <th>8</th>\n",
       "      <td>$$e^{a t} \\cos{\\left(b t \\right)}$$</td>\n",
       "      <td>$$\\frac{- a + s}{b^{2} + \\left(a - s\\right)^{2...</td>\n",
       "    </tr>\n",
       "    <tr>\n",
       "      <th>9</th>\n",
       "      <td>$$e^{a t} \\sinh{\\left(b t \\right)}$$</td>\n",
       "      <td>$$- \\frac{b}{b^{2} - \\left(a - s\\right)^{2}}$$</td>\n",
       "    </tr>\n",
       "    <tr>\n",
       "      <th>10</th>\n",
       "      <td>$$e^{a t} \\cosh{\\left(b t \\right)}$$</td>\n",
       "      <td>$$\\frac{a - s}{b^{2} - \\left(a - s\\right)^{2}}$$</td>\n",
       "    </tr>\n",
       "    <tr>\n",
       "      <th>11</th>\n",
       "      <td>$$f{\\left(t \\right)} e^{a t}$$</td>\n",
       "      <td>$$\\mathcal{L}_{t}\\left[f{\\left(t \\right)}\\righ...</td>\n",
       "    </tr>\n",
       "  </tbody>\n",
       "</table>\n",
       "</div>"
      ],
      "text/plain": [
       "                                       0                                                  1\n",
       "0                                  $$1$$                                    $$\\frac{1}{s}$$\n",
       "1                              $$t^{n}$$           $$s^{- n - 1} \\Gamma\\left(n + 1\\right)$$\n",
       "2                            $$e^{a t}$$                              $$\\frac{1}{- a + s}$$\n",
       "3            $$\\sin{\\left(a t \\right)}$$                        $$\\frac{a}{a^{2} + s^{2}}$$\n",
       "4            $$\\cos{\\left(a t \\right)}$$                        $$\\frac{s}{a^{2} + s^{2}}$$\n",
       "5           $$\\sinh{\\left(a t \\right)}$$                      $$\\frac{a}{- a^{2} + s^{2}}$$\n",
       "6           $$\\cosh{\\left(a t \\right)}$$                      $$\\frac{s}{- a^{2} + s^{2}}$$\n",
       "7    $$e^{a t} \\sin{\\left(b t \\right)}$$       $$\\frac{b}{b^{2} + \\left(a - s\\right)^{2}}$$\n",
       "8    $$e^{a t} \\cos{\\left(b t \\right)}$$  $$\\frac{- a + s}{b^{2} + \\left(a - s\\right)^{2...\n",
       "9   $$e^{a t} \\sinh{\\left(b t \\right)}$$     $$- \\frac{b}{b^{2} - \\left(a - s\\right)^{2}}$$\n",
       "10  $$e^{a t} \\cosh{\\left(b t \\right)}$$   $$\\frac{a - s}{b^{2} - \\left(a - s\\right)^{2}}$$\n",
       "11        $$f{\\left(t \\right)} e^{a t}$$  $$\\mathcal{L}_{t}\\left[f{\\left(t \\right)}\\righ..."
      ]
     },
     "execution_count": 613,
     "metadata": {},
     "output_type": "execute_result"
    }
   ],
   "source": [
    "from pandas import DataFrame\n",
    "def Table(values):\n",
    "    return [\"$${}$$\".format(sp.latex(a)) for a in values]\n",
    "\n",
    "DataFrame(list(zip(makelatex(functions), Table(transform2))))   "
   ]
  },
  {
   "cell_type": "markdown",
   "id": "a620fc30-99b7-4f63-bd17-7bec5a8303e0",
   "metadata": {},
   "source": [
    "### 3.3.2 Fourier Transform\n",
    "$f(k)=\\displaystyle\\int_{-\\infty}^{\\infty} e^{-2\\pi ikx}f(x) dx$\n",
    "- `sp.FourierTransform(f,x,k)` :to display the unevaluated Fourier transform\n",
    "- `func.doit()`: to evaluate the unevaluated LT\n",
    "- `sp.fourier_transform(f,x,k)`: evaluates the LT and returns `(F(k),a,cond)` where a=half plane of convergence"
   ]
  },
  {
   "cell_type": "code",
   "execution_count": 614,
   "id": "047deb6c-0f4d-4b5f-99d7-6bc2ba9c0b8d",
   "metadata": {},
   "outputs": [
    {
     "data": {
      "text/plain": [
       "'the fourier transform of:'"
      ]
     },
     "metadata": {},
     "output_type": "display_data"
    },
    {
     "data": {
      "image/png": "[encoded data removed]",
      "text/latex": [
       "$\\displaystyle \\mathcal{F}_{x}\\left[e^{- x^{2}}\\right]\\left(k\\right)$"
      ],
      "text/plain": [
       "                ⎛   2      ⎞\n",
       "                ⎜ -x       ⎟\n",
       "FourierTransform⎝ℯ   , x, k⎠"
      ]
     },
     "metadata": {},
     "output_type": "display_data"
    },
    {
     "data": {
      "image/png": "[encoded data removed]",
      "text/latex": [
       "$\\displaystyle \\sqrt{\\pi} e^{- \\pi^{2} k^{2}}$"
      ],
      "text/plain": [
       "      2  2\n",
       "    -π ⋅k \n",
       "√π⋅ℯ      "
      ]
     },
     "metadata": {},
     "output_type": "display_data"
    },
    {
     "data": {
      "text/plain": [
       "'the fourier Transform of: '"
      ]
     },
     "metadata": {},
     "output_type": "display_data"
    },
    {
     "data": {
      "image/png": "[encoded data removed]",
      "text/latex": [
       "$\\displaystyle \\mathcal{F}_{x}\\left[\\delta\\left(x\\right)\\right]\\left(k\\right)$"
      ],
      "text/plain": [
       "FourierTransform(δ(x), x, k)"
      ]
     },
     "metadata": {},
     "output_type": "display_data"
    },
    {
     "data": {
      "image/png": "[encoded data removed]",
      "text/latex": [
       "$\\displaystyle 1$"
      ],
      "text/plain": [
       "1"
      ]
     },
     "metadata": {},
     "output_type": "display_data"
    }
   ],
   "source": [
    "#example 1\n",
    "x=sp.Symbol('x',complex=True)\n",
    "f4= sp.exp(-x**2)\n",
    "tran2=sp.FourierTransform(f4,x,k)\n",
    "tran2.doit()\n",
    "display(\"the fourier transform of:\",tran2)\n",
    "display(tran2.doit())\n",
    "\n",
    "\n",
    "#example 2\n",
    "display(\"the fourier Transform of: \",sp.FourierTransform(sp.DiracDelta(x),x,k))\n",
    "display(sp.fourier_transform(sp.DiracDelta(x),x,k))\n"
   ]
  },
  {
   "cell_type": "markdown",
   "id": "7d0f8823-6054-4b64-b4a8-9548169f1ec3",
   "metadata": {},
   "source": [
    "Sometimes sympy can't evaluate integrals analytically, in which case you'll need to use `scipy`\n",
    "<div class=\"alert alert-block alert-info\">More on Scipy later in another notebook series.</div>"
   ]
  },
  {
   "cell_type": "markdown",
   "id": "6f0196f6-33c8-4d40-b4e3-e8a4785bae08",
   "metadata": {},
   "source": [
    "# 4.Fourier Series\n",
    "## 4.1 General Fourier Series\n",
    "$f(x)$ is periodic over (a,b) $\\implies f(x+p)=f(x) \\hspace{3cm} \\forall x$  and p>0\n",
    "\n",
    "Assume f(x) converges then,\n",
    "\n",
    "$f(x)=a_{0}+\\displaystyle\\sum_{n=1}^{\\infty} a_{n}\\cos(\\frac{n\\pi x}{l}) + \\displaystyle\\sum_{n=1}^{\\infty} b_{n}\\sin(\\frac{n\\pi x}{l})$\\\n",
    "$ l=b-a$=Upper-Lower\n",
    "\n",
    "and Fourier coeffficients are\n",
    "\n",
    "$a_{0}=\\frac{1}{2l}\\displaystyle\\int_{-l}^{l}f(x)dx$\\\n",
    "$a_{n}=\\frac{1}{l}\\displaystyle\\int_{-l}^{l}f(x)\\cos(\\frac{n\\pi x}{l})dx$\\\n",
    "$b_{n}=\\frac{1}{l}\\displaystyle\\int_{-l}^{l}f(x)\\sin(\\frac{n\\pi x}{l})dx$\n",
    "\n",
    "- `sp.fourier_series(f,(a<x<b))`: to fourier expand the function \n",
    "- `.truncate(n=# of terms)` : to truncate the expansion upto n terms\n",
    "   "
   ]
  },
  {
   "cell_type": "code",
   "execution_count": 615,
   "id": "06a9b9b5-5342-4d26-9d9e-d38b02bfe01e",
   "metadata": {},
   "outputs": [
    {
     "data": {
      "text/latex": [
       "$\\displaystyle  1.  g(x) = x^{2} \\hspace3cm\\text{0<x<2}$"
      ],
      "text/plain": [
       "<IPython.core.display.Math object>"
      ]
     },
     "metadata": {},
     "output_type": "display_data"
    },
    {
     "data": {
      "text/plain": [
       "'Fourier expansion:'"
      ]
     },
     "metadata": {},
     "output_type": "display_data"
    },
    {
     "data": {
      "image/png": "[encoded data removed]",
      "text/latex": [
       "$\\displaystyle - \\frac{4 \\sin{\\left(\\pi x \\right)}}{\\pi} - \\frac{2 \\sin{\\left(2 \\pi x \\right)}}{\\pi} + \\frac{4 \\cos{\\left(\\pi x \\right)}}{\\pi^{2}} + \\frac{\\cos{\\left(2 \\pi x \\right)}}{\\pi^{2}} + \\frac{4}{3} + \\ldots$"
      ],
      "text/plain": [
       "  4⋅sin(π⋅x)   2⋅sin(2⋅π⋅x)   4⋅cos(π⋅x)   cos(2⋅π⋅x)   4    \n",
       "- ────────── - ──────────── + ────────── + ────────── + ─ + …\n",
       "      π             π              2            2       3    \n",
       "                                  π            π             "
      ]
     },
     "metadata": {},
     "output_type": "display_data"
    },
    {
     "data": {
      "text/plain": [
       "'n=3 term in Fourier expansion:'"
      ]
     },
     "metadata": {},
     "output_type": "display_data"
    },
    {
     "data": {
      "image/png": "[encoded data removed]",
      "text/latex": [
       "$\\displaystyle - \\frac{4 \\sin{\\left(3 \\pi x \\right)}}{3 \\pi} + \\frac{4 \\cos{\\left(3 \\pi x \\right)}}{9 \\pi^{2}}$"
      ],
      "text/plain": [
       "  4⋅sin(3⋅π⋅x)   4⋅cos(3⋅π⋅x)\n",
       "- ──────────── + ────────────\n",
       "      3⋅π               2    \n",
       "                     9⋅π     "
      ]
     },
     "metadata": {},
     "output_type": "display_data"
    },
    {
     "data": {
      "text/plain": [
       "'PLOTS:'"
      ]
     },
     "metadata": {},
     "output_type": "display_data"
    },
    {
     "data": {
      "image/png": "[encoded data removed]",
      "text/plain": [
       "<Figure size 500x500 with 1 Axes>"
      ]
     },
     "metadata": {},
     "output_type": "display_data"
    }
   ],
   "source": [
    "#Example 1\n",
    "x=sp.Symbol('x',real=True)\n",
    "g=x**2\n",
    "display(Math(rf' 1.  g(x) = {sp.latex(x**2)} \\hspace3cm\\text{{0<x<2}}'))\n",
    "\n",
    "s=sp.fourier_series(g,(x,0,2))\n",
    "s1=s.truncate(n=4)\n",
    "s2=s.truncate(n=6)\n",
    "s3=s.truncate(n=10)\n",
    "display(\"Fourier expansion:\",s)\n",
    "display(\"n=3 term in Fourier expansion:\",s.term(3))\n",
    "display(\"PLOTS:\")\n",
    "p=sp.plot(g,s1,s2,s3,(x,0,2),show=False,legend=True,size=(5,5))\n",
    "p[0].label= '$x^2$'\n",
    "p[1].label= 'n=4'\n",
    "p[2].label='n=6'\n",
    "p[3].label='n=10'\n",
    "p.show()\n"
   ]
  },
  {
   "cell_type": "code",
   "execution_count": 605,
   "id": "d8a4be74-3bb8-4d30-b5aa-37f8de67e619",
   "metadata": {},
   "outputs": [
    {
     "data": {
      "text/latex": [
       "$\\displaystyle  2. g(x) = x \\left|{x}\\right| \\hspace3cm\\text{$-\\pi<x<\\pi$}$"
      ],
      "text/plain": [
       "<IPython.core.display.Math object>"
      ]
     },
     "metadata": {},
     "output_type": "display_data"
    },
    {
     "data": {
      "text/plain": [
       "'Fourier Expansion: '"
      ]
     },
     "metadata": {},
     "output_type": "display_data"
    },
    {
     "data": {
      "image/png": "[encoded data removed]",
      "text/latex": [
       "$\\displaystyle \\frac{\\left(-8 + 2 \\pi^{2}\\right) \\sin{\\left(x \\right)}}{\\pi} - \\pi \\sin{\\left(2 x \\right)} + \\frac{\\left(- \\frac{8}{27} + \\frac{2 \\pi^{2}}{3}\\right) \\sin{\\left(3 x \\right)}}{\\pi} + \\ldots$"
      ],
      "text/plain": [
       "                                  ⎛          2⎞             \n",
       "                                  ⎜  8    2⋅π ⎟             \n",
       "⎛        2⎞                       ⎜- ── + ────⎟⋅sin(3⋅x)    \n",
       "⎝-8 + 2⋅π ⎠⋅sin(x)                ⎝  27    3  ⎠             \n",
       "────────────────── - π⋅sin(2⋅x) + ────────────────────── + …\n",
       "        π                                   π               "
      ]
     },
     "metadata": {},
     "output_type": "display_data"
    },
    {
     "data": {
      "text/plain": [
       "'n=3 term in Fourier expansion:'"
      ]
     },
     "metadata": {},
     "output_type": "display_data"
    },
    {
     "data": {
      "image/png": "[encoded data removed]",
      "text/latex": [
       "$\\displaystyle \\frac{\\left(- \\frac{8}{27} + \\frac{2 \\pi^{2}}{3}\\right) \\sin{\\left(3 x \\right)}}{\\pi}$"
      ],
      "text/plain": [
       "⎛          2⎞         \n",
       "⎜  8    2⋅π ⎟         \n",
       "⎜- ── + ────⎟⋅sin(3⋅x)\n",
       "⎝  27    3  ⎠         \n",
       "──────────────────────\n",
       "          π           "
      ]
     },
     "metadata": {},
     "output_type": "display_data"
    },
    {
     "data": {
      "text/plain": [
       "'PLOTS:'"
      ]
     },
     "metadata": {},
     "output_type": "display_data"
    },
    {
     "data": {
      "image/png": "[encoded data removed]",
      "text/plain": [
       "<Figure size 500x500 with 1 Axes>"
      ]
     },
     "metadata": {},
     "output_type": "display_data"
    }
   ],
   "source": [
    "# Example 2\n",
    "g=x*sp.Abs(x)\n",
    "display(Math(rf' 2. g(x) = {sp.latex(g)} \\hspace3cm\\text{{$-\\pi<x<\\pi$}}'))\n",
    "\n",
    "s=sp.fourier_series(g,(x,-sp.pi,sp.pi))\n",
    "t1=s.truncate(n=4)\n",
    "t2=s.truncate(n=6)\n",
    "t3=s.truncate(n=10)\n",
    "display(\"Fourier Expansion: \",s)\n",
    "display(\"n=3 term in Fourier expansion:\",s.term(3))\n",
    "display(\"PLOTS:\")        \n",
    "\n",
    "p=sp.plot(g,t1,t2,t3,(x,-2.5,2.5),show=False,legend=True,size=(5,5))\n",
    "p[0].label= '$x^2$'\n",
    "p[1].label= 'n=4'\n",
    "p[2].label='n=6'\n",
    "p[3].label='n=10'\n",
    "p.show()"
   ]
  },
  {
   "cell_type": "markdown",
   "id": "7681b79a-d862-4913-ae06-ab413713214b",
   "metadata": {},
   "source": [
    "# 5.Equations and Expression evaluations\n",
    ">- Inside Math function, Essentially *equate* 2 latex-formatted string\\\n",
    ">- `sp.latex(python_variable)` evaluates the python variable and convert into latex format \n",
    ">- Syntax: `Math(rf'..stuff in latex.....= {sp.latex(func)}')` : in LHS no need to put \\$\\$ for latex\n",
    "\n",
    "- f stands for formatting strings\n",
    "- lets you include the value of Python expressions inside a string by prefixing the string with `f`\n",
    "- In these, curly braces are used to show expressions to be interpreted.\n",
    "\n",
    "More details on formatted strings can be found here: https://docs.python.org/3/tutorial/inputoutput.html"
   ]
  },
  {
   "cell_type": "code",
   "execution_count": 606,
   "id": "0bdcccee-38e7-4308-b60b-3af1b24b655a",
   "metadata": {},
   "outputs": [
    {
     "data": {
      "text/latex": [
       "$\\displaystyle  1.F(x) = 4 \\pi e^{0.1 x} \\sin{\\left(2 \\pi x \\right)}$"
      ],
      "text/plain": [
       "<IPython.core.display.Math object>"
      ]
     },
     "metadata": {},
     "output_type": "display_data"
    },
    {
     "data": {
      "text/latex": [
       "$\\displaystyle 2.\\log(-1)=i \\pi$"
      ],
      "text/plain": [
       "<IPython.core.display.Math object>"
      ]
     },
     "metadata": {},
     "output_type": "display_data"
    },
    {
     "data": {
      "text/latex": [
       "$\\displaystyle 3.\\int e^{2x}dx = \\frac{e^{2 x}}{2}$"
      ],
      "text/plain": [
       "<IPython.core.display.Math object>"
      ]
     },
     "metadata": {},
     "output_type": "display_data"
    },
    {
     "data": {
      "text/latex": [
       "$\\displaystyle 4. \\text{Matrix Multiplication}:\\left[\\begin{matrix}2 & 3\\\\6 & 1\\end{matrix}\\right] \\left[\\begin{matrix}1\\\\2\\end{matrix}\\right] = \\left[\\begin{matrix}8\\\\8\\end{matrix}\\right]$"
      ],
      "text/plain": [
       "<IPython.core.display.Math object>"
      ]
     },
     "metadata": {},
     "output_type": "display_data"
    }
   ],
   "source": [
    "f1 = 4*sp.pi*sp.exp(0.1*x)*sp.sin(2*sp.pi*x)\n",
    "display(Math(rf' 1.F(x) = {sp.latex(f1)}'))\n",
    "f2= sp.log(-1)  #==(1+1j*math.pi)\n",
    "display(Math(rf'2.\\log(-1)={sp.latex(f2)}'))\n",
    "f3=sp.integrate(sp.exp(2*x))\n",
    "display(Math(rf'3.\\int e^{{2x}}dx = {sp.latex(f3)}'))\n",
    "\n",
    "A = np.array([[2, 3],[6, 1]])\n",
    "B = np.array([[1, 2]]).transpose()\n",
    "c=sp.Matrix(np.array([[1, 2]]))\n",
    "m = sp.Matrix(A); n=sp.Matrix(B)\n",
    "\n",
    "display(Math(rf'4. \\text{{Matrix Multiplication}}:{sp.latex(sp.Eq(sp.MatMul(m,n),m*n))}'))"
   ]
  },
  {
   "cell_type": "code",
   "execution_count": 607,
   "id": "84c483c4-77a7-4e05-8079-cf861c772f88",
   "metadata": {},
   "outputs": [
    {
     "data": {
      "text/latex": [
       "$\\displaystyle \\text{1.the Linear equation:}y=10x+15$"
      ],
      "text/plain": [
       "<IPython.core.display.Math object>"
      ]
     },
     "metadata": {},
     "output_type": "display_data"
    },
    {
     "data": {
      "text/latex": [
       "$\\displaystyle \\text{2.the integral to be evaluated is:}\\int_{t=0}^1 \\frac{1}{1+t^2}\\,\\text{d}t = \\frac{\\pi}{4}$"
      ],
      "text/plain": [
       "<IPython.core.display.Math object>"
      ]
     },
     "metadata": {},
     "output_type": "display_data"
    },
    {
     "data": {
      "text/latex": [
       "$\\displaystyle \\text{3. the given function to be differentiated:}f{\\left(t \\right)} = 6 x^{5}$"
      ],
      "text/plain": [
       "<IPython.core.display.Math object>"
      ]
     },
     "metadata": {},
     "output_type": "display_data"
    },
    {
     "data": {
      "text/latex": [
       "$\\displaystyle \\hspace 3cm \\frac{df}{dx} = 30 x^{4}$"
      ],
      "text/plain": [
       "<IPython.core.display.Math object>"
      ]
     },
     "metadata": {},
     "output_type": "display_data"
    },
    {
     "data": {
      "text/latex": [
       "$\\displaystyle \\text{4. the integral to be evaluated:}\\int_{t=0}^1 \\frac{1}{1+t^2}\\ , \\text{d}t = \\frac{\\pi}{4}$"
      ],
      "text/plain": [
       "<IPython.core.display.Math object>"
      ]
     },
     "execution_count": 607,
     "metadata": {},
     "output_type": "execute_result"
    }
   ],
   "source": [
    "#example 1\n",
    "a=10\n",
    "b=15   #here one can also take these numbers as an input from user\n",
    "display(Math(rf'\\text{{1.the Linear equation:}}y={a}x+{b}'))  \n",
    "\n",
    "#example 2\n",
    "I = sp.integrate(1/(1+x**2), (x, 0, 1))\n",
    "display(Math(rf'\\text{{2.the integral to be evaluated is:}}\\int_{{t=0}}^1 \\frac{{1}}{{1+t^2}}\\,\\text{{d}}t = {sp.latex(I)}'))\n",
    "\n",
    "#example 3\n",
    "ques=6*x**5\n",
    "y = sp.diff(6*x**5)\n",
    "display(Math(rf'\\text{{3. the given function to be differentiated:}}{sp.latex(sp.Eq(f,ques))}'))\n",
    "display(Math(rf'\\hspace 3cm \\frac{{df}}{{dx}} = {sp.latex(y)}'))\n",
    "\n",
    "#example 4\n",
    "I = sp.integrate(1/(1+x**2), (x, 0, 1))\n",
    "Math(rf'\\text{{4. the integral to be evaluated:}}\\int_{{t=0}}^1 \\frac{{1}}{{1+t^2}}\\ , \\text{{d}}t = {sp.latex(I)}')"
   ]
  },
  {
   "cell_type": "markdown",
   "id": "9c2964f4-a576-41ef-8d3a-22c3e4bfd27d",
   "metadata": {},
   "source": [
    "## 5.1 Displaying LaTeX Mathematical Expressions in Python Using SymPy's `Eq()`\n",
    "- straightforward,powerful and efficient way of writing the equations and even solving some standard ones"
   ]
  },
  {
   "cell_type": "code",
   "execution_count": 608,
   "id": "4cd65dc1-1a71-4be9-8669-96c39abe84b4",
   "metadata": {},
   "outputs": [
    {
     "data": {
      "text/plain": [
       "'quadratic equation'"
      ]
     },
     "metadata": {},
     "output_type": "display_data"
    },
    {
     "data": {
      "image/png": "[encoded data removed]",
      "text/latex": [
       "$\\displaystyle x^{2} + 2 x + 1 = 0$"
      ],
      "text/plain": [
       " 2              \n",
       "x  + 2⋅x + 1 = 0"
      ]
     },
     "metadata": {},
     "output_type": "display_data"
    },
    {
     "data": {
      "text/plain": [
       "'pythagoras Theorem'"
      ]
     },
     "metadata": {},
     "output_type": "display_data"
    },
    {
     "data": {
      "image/png": "[encoded data removed]",
      "text/latex": [
       "$\\displaystyle a^{2} + b^{2} = c^{2}$"
      ],
      "text/plain": [
       " 2    2    2\n",
       "a  + b  = c "
      ]
     },
     "metadata": {},
     "output_type": "display_data"
    }
   ],
   "source": [
    "# Define the quadratic equation\n",
    "equation = sp.Eq(x**2 + 2*x + 1, 0)\n",
    "display(\"quadratic equation\",equation)\n",
    "#pythagoras theorem\n",
    "a,b,c= sp.symbols('a b c')\n",
    "pytha=sp.Eq(a**2+b**2,c**2)\n",
    "display(\"pythagoras Theorem\",pytha)"
   ]
  },
  {
   "cell_type": "markdown",
   "id": "40ff965c-aa77-4d2a-94bb-ca503d89a5f1",
   "metadata": {},
   "source": [
    "# 6. Display Equations in code cell using Markdown\n",
    "- little more advanced method of using markdown within the code cell\n",
    "- Syntax: `Markdown(...stuff in markdown...)`\n",
    "- `f'{python_variable}'` : formatted string to take in a python var as input and display\n",
    "- `f'$$...{sp.latex(python_variable)} $$ '` : f string to take in python var and convert into latex format and display\n",
    "- `r'$$....stuff...' + f' ={sp.latex(python_variable)} $$ '` : raw string+formatted sting equated to latex (python_variable)"
   ]
  },
  {
   "cell_type": "code",
   "execution_count": 609,
   "id": "e71d7e25-dc1a-44a0-8d65-cd5ccbe67a08",
   "metadata": {},
   "outputs": [
    {
     "data": {
      "text/markdown": [
       "**THE EQUATION:**"
      ],
      "text/plain": [
       "<IPython.core.display.Markdown object>"
      ]
     },
     "metadata": {},
     "output_type": "display_data"
    },
    {
     "data": {
      "text/markdown": [
       "$$\\int_{{t=0}}^1 \\frac{{1}}{{1+t^2}}\\,\\text{d}t$$"
      ],
      "text/plain": [
       "<IPython.core.display.Markdown object>"
      ]
     },
     "metadata": {},
     "output_type": "display_data"
    },
    {
     "data": {
      "text/markdown": [
       "**THE RESULT:**"
      ],
      "text/plain": [
       "<IPython.core.display.Markdown object>"
      ]
     },
     "metadata": {},
     "output_type": "display_data"
    },
    {
     "data": {
      "text/markdown": [
       "$$ = \\frac{\\pi}{4}$$"
      ],
      "text/plain": [
       "<IPython.core.display.Markdown object>"
      ]
     },
     "metadata": {},
     "output_type": "display_data"
    },
    {
     "data": {
      "text/markdown": [
       "**BOTH INLINE:**"
      ],
      "text/plain": [
       "<IPython.core.display.Markdown object>"
      ]
     },
     "metadata": {},
     "output_type": "display_data"
    },
    {
     "data": {
      "text/markdown": [
       "$$\\int_{{t=0}}^1 \\frac{{1}}{{1+t^2}}\\,\\text{d}t = \\frac{\\pi}{4}$$"
      ],
      "text/plain": [
       "<IPython.core.display.Markdown object>"
      ]
     },
     "metadata": {},
     "output_type": "display_data"
    },
    {
     "data": {
      "text/markdown": [
       "**ALTERNATIVE METHOD, COMBINED:**"
      ],
      "text/plain": [
       "<IPython.core.display.Markdown object>"
      ]
     },
     "metadata": {},
     "output_type": "display_data"
    },
    {
     "data": {
      "text/markdown": [
       "$$\\int_{{t=0}}^1 \\frac{{1}}{{1+t^2}}\\,\\text{d}t = \\frac{\\pi}{4}$$"
      ],
      "text/plain": [
       "<IPython.core.display.Markdown object>"
      ]
     },
     "metadata": {},
     "output_type": "display_data"
    }
   ],
   "source": [
    "from IPython.display import Markdown\n",
    "\n",
    "x = sp.symbols('x')\n",
    "I = sp.integrate(1/(1+x**2), (x, 0, 1))\n",
    "\n",
    "equation = r'$$\\int_{{t=0}}^1 \\frac{{1}}{{1+t^2}}\\,\\text{d}t$$'  # raw string assigned to variable\n",
    "\n",
    "#type 1\n",
    "display(Markdown('**THE EQUATION:**'))\n",
    "display(Markdown(f'{equation}') )    #formatted string given a python variable in markdown \n",
    "\n",
    "#type 2\n",
    "display(Markdown('**THE RESULT:**'))\n",
    "display(Markdown(f'$$ = {sp.latex(I)}$$')) #formatted string equated to latex(python_varible)\n",
    "\n",
    "#type 3\n",
    "display(Markdown('**BOTH INLINE:**'))\n",
    "display(Markdown(r'$$\\int_{{t=0}}^1 \\frac{{1}}{{1+t^2}}\\,\\text{d}t' + f' = {sp.latex(I)}$$'))  #raw string+formatted string equated to latex(python_var)\n",
    "\n",
    "#type 4\n",
    "display(Markdown('**ALTERNATIVE METHOD, COMBINED:**'))\n",
    "display(Markdown(equation[:-2] + f' = {sp.latex(I)}$$')) #alternative way to leave off right-side dollar signs"
   ]
  },
  {
   "cell_type": "code",
   "execution_count": null,
   "id": "90aa4dc2-952a-42c0-9cc5-16be3593f04f",
   "metadata": {},
   "outputs": [],
   "source": []
  }
 ],
 "metadata": {
  "kernelspec": {
   "display_name": "Python 3 (ipykernel)",
   "language": "python",
   "name": "python3"
  },
  "language_info": {
   "codemirror_mode": {
    "name": "ipython",
    "version": 3
   },
   "file_extension": ".py",
   "mimetype": "text/x-python",
   "name": "python",
   "nbconvert_exporter": "python",
   "pygments_lexer": "ipython3",
   "version": "3.12.7"
  },
  "widgets": {
   "application/vnd.jupyter.widget-state+json": {
    "state": {},
    "version_major": 2,
    "version_minor": 0
   }
  }
 },
 "nbformat": 4,
 "nbformat_minor": 5
}
